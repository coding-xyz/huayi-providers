{
 "cells": [
  {
   "cell_type": "markdown",
   "metadata": {},
   "source": [
    "# Quantum Volume"
   ]
  },
  {
   "cell_type": "code",
   "execution_count": 1,
   "metadata": {},
   "outputs": [],
   "source": [
    "from qiskit_experiments.library import QuantumVolume\n",
    "from qiskit_experiments.framework import BatchExperiment\n",
    "from qiskit import transpile, execute\n",
    "from qiskit.circuit.library import QuantumVolume as QuantumVolumeCircuit\n",
    "from qiskit.quantum_info import Statevector\n",
    "\n",
    "from qiskit.providers.fake_provider import *\n",
    "from qiskit_aer.noise.noise_model import NoiseModel\n",
    "\n",
    "from qiskit import Aer\n",
    "from qiskit_aer import AerSimulator\n",
    "\n",
    "import pandas as pd"
   ]
  },
  {
   "cell_type": "markdown",
   "metadata": {
    "jp-MarkdownHeadingCollapsed": true
   },
   "source": [
    "## Use qiskit-experiments built-in QV measurement\n",
    "\n",
    "**Error message**\n",
    "\n",
    "Don't use V1 backend (including FakeHuayi12, FakeMontreal, ...)\n",
    "\n",
    "something wrong with:\n",
    "\n",
    "``transpiled_circuits = experiment._transpiled_circuits()``\n",
    "\n",
    "\n",
    "There is also an unknown problem when n_qubits or trials is too big when use V2 backend\n",
    "\n",
    "some discussions:\n",
    "\n",
    "https://github.com/Qiskit-Extensions/qiskit-experiments/issues/846\n"
   ]
  },
  {
   "cell_type": "code",
   "execution_count": null,
   "metadata": {},
   "outputs": [],
   "source": [
    "def collect_data(batch_data):\n",
    "    results_table = pd.DataFrame()\n",
    "    for i in range(batch_data.num_experiments):\n",
    "        qv_result = batch_data.child_data(i).analysis_results(\"quantum_volume\")\n",
    "        data = {'QV': qv_result.value} | {'quality': qv_result.quality} | qv_result.extra\n",
    "        results_table = pd.concat([results_table, pd.DataFrame(data, index=[i])], ignore_index=True)\n",
    "    return results_table"
   ]
  },
  {
   "cell_type": "code",
   "execution_count": null,
   "metadata": {},
   "outputs": [],
   "source": [
    "simulator_huayi = FakeHuayi37V2()\n",
    "simulator_montreal = FakeMontrealV2()\n",
    "\n",
    "# Each QuantumVolume() is an Experimet class\n",
    "# The length of tuple() is the circuit depth\n",
    "exps = [QuantumVolume(tuple(range(i)), trials=100) for i in range(3,7)]\n",
    "\n",
    "# Batch the experiments (with different depth) into one object\n",
    "batch_exp = BatchExperiment(exps)\n",
    "batch_exp.set_transpile_options(optimization_level=3)\n",
    "\n",
    "# Run with the specified backend\n",
    "data_huayi = batch_exp.run(simulator_huayi).block_for_results()\n",
    "data_montreal = batch_exp.run(simulator_montreal).block_for_results()\n",
    "\n",
    "# Collect the results in the 'results_table'\n",
    "results_huayi = collect_data(data_huayi)\n",
    "results_montreal = collect_data(data_montreal)\n",
    "\n",
    "# results_table = pd.DataFrame()\n",
    "# for i in range(batch_exp.num_experiments):\n",
    "#     qv_result = data_huayi.child_data(i).analysis_results(\"quantum_volume\")\n",
    "#     data = {'QV': qv_result.value} | {'quality': qv_result.quality} | qv_result.extra\n",
    "#     results_table = pd.concat([results_table, pd.DataFrame(data, index=[i])], ignore_index=True)\n",
    "\n",
    "display(results_huayi)\n",
    "display(data_huayi.child_data(batch_exp.num_experiments-1).figure(0))\n",
    "\n",
    "display(results_montreal)\n",
    "display(data_montreal.child_data(batch_exp.num_experiments-1).figure(0))"
   ]
  },
  {
   "cell_type": "code",
   "execution_count": null,
   "metadata": {},
   "outputs": [],
   "source": [
    "# Single run\n",
    "\n",
    "# Each QuantumVolume() is an Experimet class\n",
    "# The length of tuple() is the circuit depth\n",
    "exps = QuantumVolume(tuple(range(4)), trials=160) \n",
    "\n",
    "# Batch the experiments (with different depth) into one object\n",
    "exps.set_transpile_options(optimization_level=3)\n",
    "\n",
    "backend = AerSimulator.from_backend(FakeMontrealV2())\n",
    "# Run with the specified backend\n",
    "expdata = exps.run(backend).block_for_results()\n",
    "\n",
    "expdata.figure(0)"
   ]
  },
  {
   "cell_type": "markdown",
   "metadata": {},
   "source": [
    "## Using method from qiskit textbook\n",
    "\n",
    "https://github.com/Qiskit/textbook/blob/main/notebooks/quantum-hardware/measuring-quantum-volume.ipynb\n",
    "\n",
    "Procedure:\n",
    "\n",
    "1. Set ``ncircuits`` and ``nshots``, sweep ``depth``\n",
    "2. Generate ``ncircuits`` random circuits with SU(4) gates -> ideal simulation\\\n",
    "   ``ideal_heavy_outputs`` list of most likely 50% output states\n",
    "3. For each random SU(4) ``circuit``, transpile with the noise model.\\\n",
    "   ``real_counts`` simulation outputs, formatted as (output state, counts)\n",
    "4. If an ``output state`` is in ``ideal_heavy_outputs``, then ``N_heavy += counts``\n",
    "\n",
    "Finally, ${\\rm HOP} = N_{\\rm heavy} / N_{\\rm shots} N_{\\rm circs} $\n",
    "\n",
    "Standard deviation, $\\sigma = \\sqrt{{\\rm HOP}(1-{\\rm HOP})/N_{\\rm circs} }$ (as defined in the textbook, no $N_{\\rm shots}$ ?)\n",
    "\n",
    "Criteria of success: ${\\rm HOP} - 2\\sigma > 2/3$"
   ]
  },
  {
   "cell_type": "code",
   "execution_count": 2,
   "metadata": {},
   "outputs": [
    {
     "name": "stdout",
     "output_type": "stream",
     "text": [
      "Quantum Volume: 64\n",
      "Percentage Heavy Outputs: 80.3%\n",
      "Passed?: True\n",
      "\n"
     ]
    },
    {
     "name": "stderr",
     "output_type": "stream",
     "text": [
      "d:\\GitHub\\huayi-providers\\quantum_volume.py:241: UserWarning: FigureCanvasAgg is non-interactive, and thus cannot be shown\n",
      "  fig.show()\n"
     ]
    },
    {
     "data": {
      "image/png": "[encoded data removed]",
      "text/plain": [
       "<Figure size 640x480 with 1 Axes>"
      ]
     },
     "metadata": {},
     "output_type": "display_data"
    }
   ],
   "source": [
    "# Single test \n",
    "\n",
    "from fake_Huayi32_LE import FakeHuayi32_LE, FakeHuayi32_LEV2\n",
    "from quantum_volume import test_qv, qv_plot\n",
    "\n",
    "ncircuits = 200\n",
    "nshots = 100\n",
    "\n",
    "result, qv_circs, tr_circs = test_qv(device=FakeHuayi32_LE(),\n",
    "                                     n_qubits=6, \n",
    "                                     n_circuits=ncircuits, \n",
    "                                     n_shots=nshots)\n",
    "\n",
    "qv_plot(result)\n"
   ]
  },
  {
   "cell_type": "code",
   "execution_count": 5,
   "metadata": {},
   "outputs": [
    {
     "name": "stdout",
     "output_type": "stream",
     "text": [
      "Quantum Volume: 4\n",
      "Percentage Heavy Outputs: 74.6%\n",
      "Passed?: True\n",
      "\n"
     ]
    }
   ],
   "source": [
    "# Sweep depth\n",
    "\n",
    "import os\n",
    "import json\n",
    "import pandas as pd\n",
    "\n",
    "if not os.path.isdir(\"./QV_test\"):\n",
    "    os.mkdir(\"./QV_test\")\n",
    "\n",
    "from fake_Huayi32 import FakeHuayi32\n",
    "from fake_Huayi37 import FakeHuayi37\n",
    "\n",
    "def qv_for_depth(backend, depths, n_circuits, n_shots, filename):\n",
    "\n",
    "    results_df = pd.DataFrame()\n",
    "\n",
    "    for depth in depths:\n",
    "        result, qv_circs, tr_circs = test_qv(device=backend, \n",
    "                                             n_qubits=depth, \n",
    "                                             n_circuits=n_circuits, \n",
    "                                             n_shots=n_shots)\n",
    "        results_df = pd.concat([results_df, \n",
    "                                pd.DataFrame(result, \n",
    "                                             columns=[\"backend\", \"n_qubits\", \"QV\", \"HOP\", \"success\", \"n_circuits\", \"n_shots\", \"2sigma\"], \n",
    "                                             index=[0])],\n",
    "                               ignore_index=True)\n",
    "        qv_export = result | {\"QV_circuits\": [c.qasm() for c in qv_circs]} | {\"transpiled_circuits\": [c.qasm() for c in tr_circs]}\n",
    "        \n",
    "        with open(\"QV_test/{0}_{1}.json\".format(filename, depth), 'w') as f:\n",
    "            json.dump(qv_export, f)\n",
    "\n",
    "    return results_df\n",
    "\n",
    "n_circuits = 500\n",
    "n_shots = 100\n",
    "depths = range(2, 9)\n",
    "\n",
    "results_32 = qv_for_depth(FakeHuayi32(), depths, n_circuits, n_shots, f\"QV_{FakeHuayi32().name()}\")\n",
    "results_37 = qv_for_depth(FakeHuayi37(), depths, n_circuits, n_shots, f\"QV_{FakeHuayi37().name()}\")\n",
    "\n",
    "display(results_32)\n",
    "display(results_37)\n"
   ]
  },
  {
   "cell_type": "code",
   "execution_count": null,
   "metadata": {},
   "outputs": [],
   "source": [
    "from quantum_volume import qv_list_plot\n",
    "\n",
    "qv_list_plot(backend_list=[\"FakeHuayi32\", \"FakeHuayi37\"],\n",
    "             depths=range(2,9),\n",
    "             dirname=\"QV_test\")"
   ]
  },
  {
   "cell_type": "code",
   "execution_count": null,
   "metadata": {},
   "outputs": [],
   "source": [
    "# Plot some tested results\n",
    "# import matplotlib.pyplot as plt\n",
    "# import numpy as np\n",
    "# import pandas as pd\n",
    "# import json\n",
    "\n",
    "# drange = range(1,11)\n",
    "\n",
    "# fig = plt.figure()\n",
    "\n",
    "# for backend in [\"FakeHuayi32\", \"FakeHuayi37\"]:\n",
    "#     hop = []\n",
    "#     h_low = []\n",
    "#     h_high = []\n",
    "#     for d in drange:\n",
    "#         with open(f\"QV_test/QV_{backend}_{d}.json\", 'r') as f:\n",
    "#             data = json.load(f)\n",
    "#             hop.append(data['HOP'])\n",
    "#             h_low.append(data['HOP'] - data['2sigma'])\n",
    "#             h_high.append(data['HOP'] + data['2sigma'])\n",
    "#     p_hop = plt.plot( drange, hop, label=backend )\n",
    "#     p_err = plt.fill_between( drange, h_low, h_high, color=p_hop[0].get_color(), alpha=0.2)\n",
    "#     plt.legend()\n",
    "\n",
    "# plt.hlines(2/3*100, drange[0]-1, drange[-1]+1, color='k', linestyle='dashed' )\n",
    "# plt.xlabel('num qubits (log_2 QV)')\n",
    "# plt.ylabel('HOP (%)')\n",
    "# plt.show() \n"
   ]
  }
 ],
 "metadata": {
  "kernelspec": {
   "display_name": "Python 3 (ipykernel)",
   "language": "python",
   "name": "python3"
  },
  "language_info": {
   "codemirror_mode": {
    "name": "ipython",
    "version": 3
   },
   "file_extension": ".py",
   "mimetype": "text/x-python",
   "name": "python",
   "nbconvert_exporter": "python",
   "pygments_lexer": "ipython3",
   "version": "3.11.7"
  }
 },
 "nbformat": 4,
 "nbformat_minor": 4
}
