{
 "cells": [
  {
   "cell_type": "markdown",
   "id": "d5c24b96-6ece-4ee5-8141-56efd0d51232",
   "metadata": {},
   "source": [
    "# Test Backends"
   ]
  },
  {
   "cell_type": "markdown",
   "id": "c80a617a",
   "metadata": {},
   "source": [
    "## Build a backend from csv files"
   ]
  },
  {
   "cell_type": "code",
   "execution_count": 9,
   "id": "50190f96",
   "metadata": {},
   "outputs": [
    {
     "name": "stdout",
     "output_type": "stream",
     "text": [
      "Successfully created props_Huayi37.json\n",
      "Successfully created conf_Huayi37.json\n",
      "New backends created, please import the backends with:\n",
      "from huayi_providers.fake_Huayi37 import FakeHuayi37, FakeHuayi37V2\n"
     ]
    }
   ],
   "source": [
    "# Generate props_huayi.json from .csv experimental data\n",
    "from backend_build import build_from_file\n",
    "\n",
    "\"\"\"\n",
    "The configuration of the built backend is based on the input .csv file of gates_data\n",
    "The basis_gates includes the gates in gates_data_{}.csv\n",
    "The coupling map is construced from the two-qubit gates in gates_data_{}.csv\n",
    "So far only one- and two-qubit gates are supported\n",
    "\"\"\"\n",
    "c = build_from_file(backend_name='Huayi37',\n",
    "       backend_version='0.0.1',\n",
    "       qubits_data='data/qubits_data_37.csv', \n",
    "       gates_data='data/gates_data_37.csv',)\n"
   ]
  },
  {
   "cell_type": "markdown",
   "id": "31007f84-25ea-4c74-9e72-e0d54c6f4ce8",
   "metadata": {},
   "source": [
    "## Check if the new backend works"
   ]
  },
  {
   "cell_type": "code",
   "execution_count": 11,
   "id": "f1c07fbd-c7c5-48ec-b22e-5806d35d4562",
   "metadata": {},
   "outputs": [
    {
     "name": "stdout",
     "output_type": "stream",
     "text": [
      "Efficient SU2 ansatz\n",
      "     ┌──────────┐     ┌──────────┐                        \n",
      "q_0: ┤ Ry(θ[0]) ├──■──┤ Ry(θ[4]) ├────────────────────────\n",
      "     ├──────────┤┌─┴─┐└──────────┘┌──────────┐            \n",
      "q_1: ┤ Ry(θ[1]) ├┤ X ├─────■──────┤ Ry(θ[5]) ├────────────\n",
      "     ├──────────┤└───┘   ┌─┴─┐    └──────────┘┌──────────┐\n",
      "q_2: ┤ Ry(θ[2]) ├────────┤ X ├─────────■──────┤ Ry(θ[6]) ├\n",
      "     ├──────────┤        └───┘       ┌─┴─┐    ├──────────┤\n",
      "q_3: ┤ Ry(θ[3]) ├────────────────────┤ X ├────┤ Ry(θ[7]) ├\n",
      "     └──────────┘                    └───┘    └──────────┘\n",
      "Transpileed with Huayi backend, depth = 13\n",
      "global phase: π\n",
      "          ┌──────────┐┌─────────┐┌───────┐                                                   ┌─────────┐ ┌───────┐┌──────────┐\n",
      "q_3 -> 24 ┤ Ry(θ[3]) ├┤ Ry(π/2) ├┤ Rx(π) ├─────────────────────────────────────────────────■─┤ Ry(π/2) ├─┤ Rx(π) ├┤ Ry(θ[7]) ├\n",
      "          ├──────────┤├─────────┤├───────┤                           ┌─────────┐ ┌───────┐ │ ├─────────┴┐└───────┘└──────────┘\n",
      "q_2 -> 25 ┤ Ry(θ[2]) ├┤ Ry(π/2) ├┤ Rx(π) ├─────────────────────────■─┤ Ry(π/2) ├─┤ Rx(π) ├─■─┤ Ry(θ[6]) ├─────────────────────\n",
      "          ├──────────┤├─────────┤├───────┤   ┌─────────┐ ┌───────┐ │ ├─────────┴┐└───────┘   └──────────┘                     \n",
      "q_1 -> 26 ┤ Ry(θ[1]) ├┤ Ry(π/2) ├┤ Rx(π) ├─■─┤ Ry(π/2) ├─┤ Rx(π) ├─■─┤ Ry(θ[5]) ├─────────────────────────────────────────────\n",
      "          ├──────────┤└─────────┘└───────┘ │ ├─────────┴┐└───────┘   └──────────┘                                             \n",
      "q_0 -> 27 ┤ Ry(θ[0]) ├─────────────────────■─┤ Ry(θ[4]) ├─────────────────────────────────────────────────────────────────────\n",
      "          └──────────┘                       └──────────┘                                                                     \n"
     ]
    }
   ],
   "source": [
    "from qiskit.circuit.library import EfficientSU2\n",
    "from qiskit import transpile\n",
    "from qiskit import QuantumCircuit\n",
    "\n",
    "from fake_Huayi37 import FakeHuayi37\n",
    "\n",
    "backend = FakeHuayi37()\n",
    "\n",
    "n_qubits = 4\n",
    "ansatz = EfficientSU2(n_qubits, \n",
    "                      su2_gates=['ry'], \n",
    "                      entanglement=\"linear\", \n",
    "                      reps=1,\n",
    "                      flatten=True)\n",
    "print(\"Efficient SU2 ansatz\")\n",
    "print(ansatz.draw(fold=140, idle_wires=False))\n",
    "\n",
    "c = transpile(ansatz, backend=backend, optimization_level=3)\n",
    "print(\"Transpileed with Huayi backend, depth = {}\".format(c.depth()))\n",
    "print(c.draw(fold=140, idle_wires=False))\n"
   ]
  },
  {
   "cell_type": "code",
   "execution_count": null,
   "id": "858fc03e",
   "metadata": {},
   "outputs": [],
   "source": []
  }
 ],
 "metadata": {
  "kernelspec": {
   "display_name": "Python 3 (ipykernel)",
   "language": "python",
   "name": "python3"
  },
  "language_info": {
   "codemirror_mode": {
    "name": "ipython",
    "version": 3
   },
   "file_extension": ".py",
   "mimetype": "text/x-python",
   "name": "python",
   "nbconvert_exporter": "python",
   "pygments_lexer": "ipython3",
   "version": "3.11.3"
  }
 },
 "nbformat": 4,
 "nbformat_minor": 5
}
